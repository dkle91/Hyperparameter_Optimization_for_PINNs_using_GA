{
  "nbformat": 4,
  "nbformat_minor": 0,
  "metadata": {
    "colab": {
      "name": "Wave-GA Search.ipynb",
      "provenance": [],
      "collapsed_sections": [],
      "authorship_tag": "ABX9TyMub8+G2AhhNSdlhj2lCZY4",
      "include_colab_link": true
    },
    "kernelspec": {
      "name": "python3",
      "display_name": "Python 3"
    },
    "language_info": {
      "name": "python"
    }
  },
  "cells": [
    {
      "cell_type": "markdown",
      "metadata": {
        "id": "view-in-github",
        "colab_type": "text"
      },
      "source": [
        "<a href=\"https://colab.research.google.com/github/dkle91/Hyperparameter_Optimization_for_PINNs_using_GA/blob/main/Wave_equation_GA_Search.ipynb\" target=\"_parent\"><img src=\"https://colab.research.google.com/assets/colab-badge.svg\" alt=\"Open In Colab\"/></a>"
      ]
    },
    {
      "cell_type": "code",
      "execution_count": null,
      "metadata": {
        "id": "noIRJeTWzfn0"
      },
      "outputs": [],
      "source": [
        "import math\n",
        "import numpy as np\n",
        "import pandas as pd\n",
        "import random\n",
        "from matplotlib import pyplot as plt\n",
        "from sklearn import preprocessing\n",
        "from google.colab import files"
      ]
    },
    {
      "cell_type": "code",
      "source": [
        "# Import result file\n",
        "file = open(\"Wave-Summary.csv\")\n",
        "result = np.loadtxt(file, delimiter=\",\")\n",
        "#print(Wave_result)\n",
        "# Define parameter\n",
        "population_size = 200\n",
        "w_time = 0\n",
        "w_loss = 1\n",
        "tournament_size = 2\n",
        "l = 8 # number of hyperparameter + 1\n",
        "missing_value = [999999]\n",
        "mutation_rate = 0.3 # posibility of mutation \n",
        "num_generation = 500\n",
        "total_population = np.empty((num_generation+1, population_size, l+3))\n",
        "total_best = np.empty((num_generation+1, l+3))"
      ],
      "metadata": {
        "id": "WHLaEbpQ5MKI"
      },
      "execution_count": null,
      "outputs": []
    },
    {
      "cell_type": "code",
      "execution_count": null,
      "metadata": {
        "id": "bI0Tb1XSv5TW"
      },
      "outputs": [],
      "source": [
        "#collapse-show\n",
        "def create_population(population_size):\n",
        "    ini_population = np.empty((population_size,l+3))\n",
        "    indicator = random.sample(range(0, result.shape[0]+1), population_size)\n",
        "    indicator = np.array(indicator)\n",
        "    for m in range(population_size):\n",
        "      ini_population[m] =result[indicator[m]] \n",
        "    return ini_population\n"
      ]
    },
    {
      "cell_type": "code",
      "source": [
        "def problem(population, soln):\n",
        "    normalize = np.concatenate((w_time*population[:,l],w_loss*population[:,l+1]), axis=None)\n",
        "    normalized = preprocessing.normalize(normalize.reshape(1,-1))\n",
        "    normalized = normalized.reshape(-1,1)\n",
        "    normalized_time, normalized_loss = normalized[:len(population)], normalized[len(population):]\n",
        "    return normalized_time[soln]+normalized_loss[soln]"
      ],
      "metadata": {
        "id": "VkPQ8aosLWL0"
      },
      "execution_count": null,
      "outputs": []
    },
    {
      "cell_type": "code",
      "source": [
        "def assess_fitness(individual,population, problem):\n",
        "    \"Determines the fitness of an individual using the given problem\"\n",
        "    return problem(population, individual)\n",
        "\n",
        "def find_current_best(population, problem):\n",
        "    \"\"\"Evaluates a given population and returns the fittest individual.\n",
        "    This can be sped up to only loop over popuation once, but because this is a tutorial, 3 lines is nicer.\n",
        "    \"\"\"\n",
        "    fitnesses = [assess_fitness(x, population, problem) for x in range(len(population))]\n",
        "    best_value = min(fitnesses) # Lowest is best\n",
        "    best_index = fitnesses.index(best_value)\n",
        "    return population[best_index]"
      ],
      "metadata": {
        "id": "uBskaB75HORj"
      },
      "execution_count": null,
      "outputs": []
    },
    {
      "cell_type": "code",
      "source": [
        "# Next generation\n",
        "def tournament_select_with_replacement(population, tournament_size, problem):\n",
        "    \"Competes a number of challengers and returns the fittest one\"\n",
        "    challengers_indexes = np.random.choice(population.shape[0], tournament_size, replace=True)\n",
        "    challengers = population[challengers_indexes]\n",
        "    return find_current_best(challengers, problem)"
      ],
      "metadata": {
        "id": "d9GcM68Pnx65"
      },
      "execution_count": null,
      "outputs": []
    },
    {
      "cell_type": "code",
      "source": [
        "#collapse-show\n",
        "def crossover(parent_a, parent_b):\n",
        "    \"Performs two point crossover on two parents\"\n",
        "    c, d = random.randint(1, 5), random.randint(5, l)\n",
        "    temp = np.copy(parent_a)\n",
        "    child_a = np.concatenate([missing_value,parent_a[1:c], parent_b[c:d], parent_a[d:l],missing_value,missing_value, missing_value])\n",
        "    child_b = np.concatenate([missing_value,parent_b[1:c], temp[c:d], parent_b[d:l],missing_value,missing_value, missing_value])\n",
        "    return child_a, child_b"
      ],
      "metadata": {
        "id": "fS-LpgV4pMol"
      },
      "execution_count": null,
      "outputs": []
    },
    {
      "cell_type": "code",
      "source": [
        "def mutate(child, mutation_rate):\n",
        "    \"May mutate a child using Gaussian convolution\"\n",
        "    if mutation_rate >= random.uniform(0,1):\n",
        "      for j in range(l-1):\n",
        "        child[j+1] = np.random.randint(0,4)\n",
        "    for i in range(len(result)):\n",
        "      if (child[1]==result[i,1]) and (child[2]==result[i,2]) and (child[3]==result[i,3]) and (child[4]==result[i,4]) and (child[5]==result[i,5]) and (child[6]==result[i,6]) and (child[7]==result[i,7]):\n",
        "        child[0] = result[i,0]\n",
        "        child[8] = result[i,8]\n",
        "        child[9] = result[i,9]\n",
        "        child[10] = result[i,10] \n",
        "    return child"
      ],
      "metadata": {
        "id": "k30wpXhR9sFL"
      },
      "execution_count": null,
      "outputs": []
    },
    {
      "cell_type": "code",
      "source": [
        "def update_population(population, problem, mutation_rate):\n",
        "    \"\"\"Performs one generational update of Genetic Algorithm\"\"\"\n",
        "    #pop_size = len(population)\n",
        "    next_population = np.empty((population_size, l+3))\n",
        "    for k in range(int(population_size / 2)):\n",
        "        parent_a = tournament_select_with_replacement(population, tournament_size, problem)\n",
        "        parent_b = tournament_select_with_replacement(population, tournament_size, problem)\n",
        "        child_a, child_b = crossover(parent_a, parent_b)\n",
        "        next_population[k] = mutate(child_a, mutation_rate)\n",
        "        position_child_b = k + (population_size / 2)\n",
        "        next_population[int(position_child_b)] = mutate(child_b, mutation_rate)\n",
        "    return next_population"
      ],
      "metadata": {
        "id": "vnKYIzZwZu7M"
      },
      "execution_count": null,
      "outputs": []
    },
    {
      "cell_type": "code",
      "source": [
        "total_population[0] = create_population(population_size)\n",
        "#total_population[0] = current_population\n",
        "total_best[0] = find_current_best(total_population[0], problem)\n",
        "#fig = plt.figure(figsize=(9,6))\n",
        "#plt.scatter(total_population[0,:,l], total_population[0,:,l+1], c='blue', marker='.',alpha=1)\n",
        "#plt.scatter(total_best[0,l], total_best[0,l+1], c='red', marker='x',alpha=1)\n",
        "#plt.gca().legend(('Population','Fittest'))\n",
        "#plt.xlabel('Computational time (s)')\n",
        "#plt.ylabel('Loss')\n",
        "#plt.title('Genetic Algoritm: Initial population_10-30_wave equation.jpeg')\n",
        "#plt.savefig('Genetic Algoritm: Initial population_10-30_wave equation.jpeg', bbox_inches='tight', dpi=300)\n",
        "#files.download('Genetic Algoritm: Initial population_10-30_wave equation.jpeg') \n",
        "print('The best hyperparameter of Initial population is: ', total_best[0])"
      ],
      "metadata": {
        "colab": {
          "base_uri": "https://localhost:8080/"
        },
        "id": "cNYNS1S4V8TY",
        "outputId": "0237793a-65e6-4464-a587-8b3ab8a12058"
      },
      "execution_count": null,
      "outputs": [
        {
          "output_type": "stream",
          "name": "stdout",
          "text": [
            "The best hyperparameter of Initial population is:  [5.24600000e+03 3.00000000e+00 0.00000000e+00 0.00000000e+00\n",
            " 0.00000000e+00 3.00000000e+00 3.00000000e+00 2.00000000e+00\n",
            " 1.87051763e+01 1.83906000e-04 6.52816000e-04]\n"
          ]
        }
      ]
    },
    {
      "cell_type": "code",
      "source": [
        "from google.colab import files\n",
        "i=0\n",
        "stop = 9999\n",
        "while stop != 6.01000000e-06:#6.95000000e-06: #6.01000000e-06:\n",
        "  total_population[i+1] = update_population(total_population[i], problem, mutation_rate)\n",
        "  total_best[i+1] = find_current_best(total_population[i+1], problem)\n",
        "  #fig = plt.figure(figsize=(9,6))\n",
        "  #plt.scatter(total_population[i+1,:,l], total_population[i+1,:,l+1], c='blue', marker='.',alpha=1)\n",
        "  #plt.scatter(total_best[i+1,l], total_best[i+1,l+1], c='red', marker='x',alpha=1)\n",
        "  #plt.gca().legend(('Population','Fittest'))\n",
        "  #plt.xlabel('Computational time (s)')\n",
        "  #plt.ylabel('Loss')\n",
        "  #if i ==0:\n",
        "    #plt.title('Genetic Algorithm: The %dnd generation'%(i+2))\n",
        "    #plt.savefig('Genetic Algorithm: The %dnd generation_10-30_wave equation.jpeg'%(i+2), bbox_inches='tight', dpi=300)\n",
        "    #files.download('Genetic Algorithm: The %dnd generation_10-30_wave equation.jpeg'%(i+2)) \n",
        "  #else:\n",
        "    #plt.title('Genetic Algorithm: The %dth generation'%(i+2))\n",
        "    #plt.savefig('Genetic Algorithm: The %dth generation_10-30_wave equation.jpeg'%(i+2), bbox_inches='tight', dpi=300)\n",
        "    #files.download('Genetic Algorithm: The %dth generation_10-30_wave equation.jpeg'%(i+2)) \n",
        "  print('The best hyperparameter of the %dth population is: '%(i+2), total_best[i+1])\n",
        "  stop = total_best[i+1,l+1]\n",
        "  i+=1\n",
        "lentotal = i"
      ],
      "metadata": {
        "colab": {
          "base_uri": "https://localhost:8080/"
        },
        "id": "xC2azInjdAiV",
        "outputId": "d7335217-64bd-4bec-f3b6-14227f205629"
      },
      "execution_count": null,
      "outputs": [
        {
          "output_type": "stream",
          "name": "stdout",
          "text": [
            "The best hyperparameter of the 2th population is:  [6.1800000e+02 0.0000000e+00 1.0000000e+00 0.0000000e+00 0.0000000e+00\n",
            " 2.0000000e+00 2.0000000e+00 2.0000000e+00 1.0443435e+01 9.7900000e-05\n",
            " 9.8036400e-03]\n",
            "The best hyperparameter of the 3th population is:  [6.9800000e+02 0.0000000e+00 1.0000000e+00 0.0000000e+00 1.0000000e+00\n",
            " 3.0000000e+00 2.0000000e+00 2.0000000e+00 1.3517118e+01 1.0824100e-04\n",
            " 2.7441360e-03]\n",
            "The best hyperparameter of the 4th population is:  [6.22000000e+02 0.00000000e+00 1.00000000e+00 0.00000000e+00\n",
            " 0.00000000e+00 2.00000000e+00 3.00000000e+00 2.00000000e+00\n",
            " 1.00349724e+01 4.30000000e-05 2.22259000e-03]\n",
            "The best hyperparameter of the 5th population is:  [7.54600000e+03 1.00000000e+00 3.00000000e+00 0.00000000e+00\n",
            " 0.00000000e+00 3.00000000e+00 2.00000000e+00 2.00000000e+00\n",
            " 1.52159562e+01 5.15000000e-05 2.34677000e-04]\n",
            "The best hyperparameter of the 6th population is:  [2.3660000e+03 1.0000000e+00 1.0000000e+00 0.0000000e+00 0.0000000e+00\n",
            " 3.0000000e+00 3.0000000e+00 2.0000000e+00 1.2314435e+01 5.9400000e-05\n",
            " 5.2603800e-04]\n",
            "The best hyperparameter of the 7th population is:  [4.30000000e+01 0.00000000e+00 0.00000000e+00 0.00000000e+00\n",
            " 0.00000000e+00 2.00000000e+00 2.00000000e+00 3.00000000e+00\n",
            " 1.17021775e+01 6.01000000e-06 4.66034110e-02]\n"
          ]
        }
      ]
    },
    {
      "cell_type": "code",
      "source": [
        "grid_best = find_current_best(result, problem)\n",
        "fig = plt.figure(figsize=(9,6))\n",
        "plt.scatter(result[:,l], result[:,l+1], c='blue', marker='.',alpha=1)\n",
        "plt.scatter(grid_best[l], grid_best[l+1], c='red', marker='x',alpha=1)\n",
        "plt.gca().legend(('Search point','Fittest'))\n",
        "plt.xlabel('Computational time (s)')\n",
        "plt.ylabel('Loss')\n",
        "plt.title('Grid Search')\n",
        "plt.savefig('Grid Search for Wave eaquation.jpeg', bbox_inches='tight', dpi=300);\n",
        "#print('The best hyperparameter of Grid Search is: ',grid_best)"
      ],
      "metadata": {
        "id": "Yx1taKzei6FX"
      },
      "execution_count": null,
      "outputs": []
    },
    {
      "cell_type": "code",
      "source": [
        "#for i in range(lentotal+1):\n",
        "  #np.savetxt('Genetic Algorithm: The %dth population_10-30_wave equation.csv'%i, total_population[i], delimiter=',')\n",
        "  #files.download('Genetic Algorithm: The %dth population_10-30_wave equation.csv'%i) \n",
        "np.savetxt('Genetic Algorithm: Fittest in all generation_200-30_wave equation.csv', total_best, delimiter=',')\n",
        "files.download('Genetic Algorithm: Fittest in all generation_200-30_wave equation.csv') "
      ],
      "metadata": {
        "colab": {
          "base_uri": "https://localhost:8080/",
          "height": 17
        },
        "id": "PbQDLj5eoZis",
        "outputId": "97726d76-ce93-4bce-ed9f-bfc7e01bcb07"
      },
      "execution_count": null,
      "outputs": [
        {
          "output_type": "display_data",
          "data": {
            "text/plain": [
              "<IPython.core.display.Javascript object>"
            ],
            "application/javascript": [
              "\n",
              "    async function download(id, filename, size) {\n",
              "      if (!google.colab.kernel.accessAllowed) {\n",
              "        return;\n",
              "      }\n",
              "      const div = document.createElement('div');\n",
              "      const label = document.createElement('label');\n",
              "      label.textContent = `Downloading \"${filename}\": `;\n",
              "      div.appendChild(label);\n",
              "      const progress = document.createElement('progress');\n",
              "      progress.max = size;\n",
              "      div.appendChild(progress);\n",
              "      document.body.appendChild(div);\n",
              "\n",
              "      const buffers = [];\n",
              "      let downloaded = 0;\n",
              "\n",
              "      const channel = await google.colab.kernel.comms.open(id);\n",
              "      // Send a message to notify the kernel that we're ready.\n",
              "      channel.send({})\n",
              "\n",
              "      for await (const message of channel.messages) {\n",
              "        // Send a message to notify the kernel that we're ready.\n",
              "        channel.send({})\n",
              "        if (message.buffers) {\n",
              "          for (const buffer of message.buffers) {\n",
              "            buffers.push(buffer);\n",
              "            downloaded += buffer.byteLength;\n",
              "            progress.value = downloaded;\n",
              "          }\n",
              "        }\n",
              "      }\n",
              "      const blob = new Blob(buffers, {type: 'application/binary'});\n",
              "      const a = document.createElement('a');\n",
              "      a.href = window.URL.createObjectURL(blob);\n",
              "      a.download = filename;\n",
              "      div.appendChild(a);\n",
              "      a.click();\n",
              "      div.remove();\n",
              "    }\n",
              "  "
            ]
          },
          "metadata": {}
        },
        {
          "output_type": "display_data",
          "data": {
            "text/plain": [
              "<IPython.core.display.Javascript object>"
            ],
            "application/javascript": [
              "download(\"download_8afecbc5-8393-429c-bcce-541ef73d267d\", \"Genetic Algorithm: Fittest in all generation_200-30_wave equation.csv\", 142994)"
            ]
          },
          "metadata": {}
        }
      ]
    },
    {
      "cell_type": "code",
      "source": [
        "total_time = 0\n",
        "for i in range(lentotal+1):\n",
        "  total_time += np.sum(total_population[i,:,l])\n",
        "total_time"
      ],
      "metadata": {
        "colab": {
          "base_uri": "https://localhost:8080/"
        },
        "id": "nP0r-SpsWq0S",
        "outputId": "02d1a789-3a2a-4ae0-ecc7-b32cdcfa2d5c"
      },
      "execution_count": null,
      "outputs": [
        {
          "output_type": "execute_result",
          "data": {
            "text/plain": [
              "13513.358949807"
            ]
          },
          "metadata": {},
          "execution_count": 14
        }
      ]
    }
  ]
}