{
  "nbformat": 4,
  "nbformat_minor": 0,
  "metadata": {
    "colab": {
      "name": "Burger equation-GA Search.ipynb",
      "provenance": [],
      "collapsed_sections": [],
      "authorship_tag": "ABX9TyPJykqQGMBu73Ic4G11DElp",
      "include_colab_link": true
    },
    "kernelspec": {
      "name": "python3",
      "display_name": "Python 3"
    },
    "language_info": {
      "name": "python"
    }
  },
  "cells": [
    {
      "cell_type": "markdown",
      "metadata": {
        "id": "view-in-github",
        "colab_type": "text"
      },
      "source": [
        "<a href=\"https://colab.research.google.com/github/dkle91/Hyperparameter_Optimization_for_PINNs_using_GA/blob/main/Burger_equation_GA_Search.ipynb\" target=\"_parent\"><img src=\"https://colab.research.google.com/assets/colab-badge.svg\" alt=\"Open In Colab\"/></a>"
      ]
    },
    {
      "cell_type": "code",
      "execution_count": 1,
      "metadata": {
        "id": "noIRJeTWzfn0"
      },
      "outputs": [],
      "source": [
        "import math\n",
        "import numpy as np\n",
        "import pandas as pd\n",
        "import random\n",
        "from matplotlib import pyplot as plt\n",
        "from sklearn import preprocessing\n",
        "from google.colab import files"
      ]
    },
    {
      "cell_type": "code",
      "source": [
        "# Import result file\n",
        "file = open(\"Burger_Summary.csv\")\n",
        "result = np.loadtxt(file, delimiter=\",\")\n",
        "#print(result)\n",
        "# Define parameter\n",
        "population_size = 100\n",
        "w_time = 0\n",
        "w_loss = 1\n",
        "tournament_size = 2\n",
        "l = 9 # number of hyperparameter + 1\n",
        "missing_value = [999999]\n",
        "mutation_rate = 0.1 # posibility of mutation \n",
        "num_generation = 500\n",
        "total_population = np.empty((num_generation+1, population_size, l+3))\n",
        "total_best = np.empty((num_generation+1, l+3))\n",
        "desired_error = 1e-4"
      ],
      "metadata": {
        "id": "WHLaEbpQ5MKI"
      },
      "execution_count": 2,
      "outputs": []
    },
    {
      "cell_type": "code",
      "execution_count": 3,
      "metadata": {
        "id": "bI0Tb1XSv5TW"
      },
      "outputs": [],
      "source": [
        "#collapse-show\n",
        "def create_population(population_size):\n",
        "    ini_population = np.empty((population_size,l+3))\n",
        "    indicator = random.sample(range(0, result.shape[0]+1), population_size)\n",
        "    indicator = np.array(indicator)\n",
        "    for m in range(population_size):\n",
        "      ini_population[m] =result[indicator[m]] \n",
        "    return ini_population\n"
      ]
    },
    {
      "cell_type": "code",
      "source": [
        "def problem(population, soln):\n",
        "    normalize = np.concatenate((w_time*population[:,l],w_loss*population[:,l+1]), axis=None)\n",
        "    normalized = preprocessing.normalize(normalize.reshape(1,-1))\n",
        "    normalized = normalized.reshape(-1,1)\n",
        "    normalized_time, normalized_loss = normalized[:len(population)], normalized[len(population):]\n",
        "    return normalized_time[soln]+normalized_loss[soln]"
      ],
      "metadata": {
        "id": "VkPQ8aosLWL0"
      },
      "execution_count": 4,
      "outputs": []
    },
    {
      "cell_type": "code",
      "source": [
        "def assess_fitness(individual,population, problem):\n",
        "    \"Determines the fitness of an individual using the given problem\"\n",
        "    return problem(population, individual)\n",
        "\n",
        "def find_current_best(population, problem):\n",
        "    \"\"\"Evaluates a given population and returns the fittest individual.\n",
        "    This can be sped up to only loop over popuation once, but because this is a tutorial, 3 lines is nicer.\n",
        "    \"\"\"\n",
        "    fitnesses = [assess_fitness(x, population, problem) for x in range(len(population))]\n",
        "    best_value = min(fitnesses) # Lowest is best\n",
        "    best_index = fitnesses.index(best_value)\n",
        "    return population[best_index]"
      ],
      "metadata": {
        "id": "uBskaB75HORj"
      },
      "execution_count": 5,
      "outputs": []
    },
    {
      "cell_type": "code",
      "source": [
        "# Next generation\n",
        "def tournament_select_with_replacement(population, tournament_size, problem):\n",
        "    \"Competes a number of challengers and returns the fittest one\"\n",
        "    challengers_indexes = np.random.choice(population.shape[0], tournament_size, replace=True)\n",
        "    challengers = population[challengers_indexes]\n",
        "    return find_current_best(challengers, problem)"
      ],
      "metadata": {
        "id": "d9GcM68Pnx65"
      },
      "execution_count": 6,
      "outputs": []
    },
    {
      "cell_type": "code",
      "source": [
        "#collapse-show\n",
        "def crossover(parent_a, parent_b):\n",
        "    \"Performs two point crossover on two parents\"\n",
        "    c, d = random.randint(1, 5), random.randint(5, l)\n",
        "    temp = np.copy(parent_a)\n",
        "    child_a = np.concatenate([missing_value,parent_a[1:c], parent_b[c:d], parent_a[d:l],missing_value,missing_value, missing_value])\n",
        "    child_b = np.concatenate([missing_value,parent_b[1:c], temp[c:d], parent_b[d:l],missing_value,missing_value, missing_value])\n",
        "    return child_a, child_b"
      ],
      "metadata": {
        "id": "fS-LpgV4pMol"
      },
      "execution_count": 7,
      "outputs": []
    },
    {
      "cell_type": "code",
      "source": [
        "def mutate(child, mutation_rate):\n",
        "    \"May mutate a child using Gaussian convolution\"\n",
        "    if mutation_rate >= random.uniform(0,1):\n",
        "      for j in range(l-1):\n",
        "        child[j+1] = np.random.randint(0,3)\n",
        "    for i in range(len(result)):\n",
        "      if (child[1]==result[i,1]) and (child[2]==result[i,2]) and (child[3]==result[i,3]) and (child[4]==result[i,4]) and (child[5]==result[i,5]) and (child[6]==result[i,6]) and (child[7]==result[i,7]) and (child[8]==result[i,8]):\n",
        "        child[0] = result[i,0]\n",
        "        child[9] = result[i,9]\n",
        "        child[10] = result[i,10]\n",
        "        child[11] = result[i,11] \n",
        "    return child"
      ],
      "metadata": {
        "id": "k30wpXhR9sFL"
      },
      "execution_count": 8,
      "outputs": []
    },
    {
      "cell_type": "code",
      "source": [
        "def update_population(population, problem, mutation_rate):\n",
        "    \"\"\"Performs one generational update of Genetic Algorithm\"\"\"\n",
        "    #pop_size = len(population)\n",
        "    next_population = np.empty((population_size, l+3))\n",
        "    for k in range(int(population_size / 2)):\n",
        "        parent_a = tournament_select_with_replacement(population, tournament_size, problem)\n",
        "        parent_b = tournament_select_with_replacement(population, tournament_size, problem)\n",
        "        child_a, child_b = crossover(parent_a, parent_b)\n",
        "        next_population[k] = mutate(child_a, mutation_rate)\n",
        "        position_child_b = k + (population_size / 2)\n",
        "        next_population[int(position_child_b)] = mutate(child_b, mutation_rate)\n",
        "    return next_population"
      ],
      "metadata": {
        "id": "vnKYIzZwZu7M"
      },
      "execution_count": 9,
      "outputs": []
    },
    {
      "cell_type": "code",
      "source": [
        "total_population[0] = create_population(population_size)\n",
        "#total_population[0] = current_population\n",
        "total_best[0] = find_current_best(total_population[0], problem)\n",
        "#fig = plt.figure(figsize=(9,6))\n",
        "#plt.scatter(total_population[0,:,l], total_population[0,:,l+1], c='blue', marker='.',alpha=1)\n",
        "#plt.scatter(total_best[0,l], total_best[0,l+1], c='red', marker='x',alpha=1)\n",
        "#plt.gca().legend(('Population','Fittest'))\n",
        "#plt.xlabel('Computational time (s)')\n",
        "#plt.ylabel('Loss')\n",
        "#plt.title('Genetic Algoritm: Initial population')\n",
        "#plt.savefig('Genetic Algoritm: Initial population_10-10_Burger equation.jpeg', bbox_inches='tight', dpi=300)\n",
        "#files.download('Genetic Algoritm: Initial population_10-10_Burger equation.jpeg') \n",
        "print('The best hyperparameter of Initial population is: ', total_best[0])"
      ],
      "metadata": {
        "id": "cNYNS1S4V8TY"
      },
      "execution_count": null,
      "outputs": []
    },
    {
      "cell_type": "code",
      "source": [
        "i=0\n",
        "stop = 999\n",
        "\n",
        "last_best = total_best[0,l+1]\n",
        "while ((stop != last_best) or (stop >= desired_error)):\n",
        "  total_population[i+1] = update_population(total_population[i], problem, mutation_rate)\n",
        "  total_best[i+1] = find_current_best(total_population[i+1], problem)\n",
        "  #fig = plt.figure(figsize=(9,6))\n",
        "  #plt.scatter(total_population[i+1,:,l], total_population[i+1,:,l+1], c='blue', marker='.',alpha=1)\n",
        "  #plt.scatter(total_best[i+1,l], total_best[i+1,l+1], c='red', marker='x',alpha=1)\n",
        "  #plt.gca().legend(('Population','Fittest'))\n",
        "  #plt.xlabel('Computational time (s)')\n",
        "  #plt.ylabel('Loss')\n",
        "  #if i ==0:\n",
        "     #plt.title('Genetic Algorithm: The %dnd generation'%(i+2))\n",
        "     #plt.savefig('Genetic Algorithm: The %dnd generation_100-10_Burger equation.jpeg'%(i+2), bbox_inches='tight', dpi=300)\n",
        "     #files.download('Genetic Algorithm: The %dnd generation_100-10_Burger equation.jpeg'%(i+2)) \n",
        "  #else:\n",
        "    #plt.title('Genetic Algorithm: The %dth generation'%(i+2))\n",
        "    #plt.savefig('Genetic Algorithm: The %dth generation_100-10_Burger equation.jpeg'%(i+2), bbox_inches='tight', dpi=300)\n",
        "    #files.download('Genetic Algorithm: The %dth generation_100-10_Burger equation.jpeg'%(i+2)) \n",
        "  print('The best hyperparameter of the %dth population is: '%(i+2), total_best[i+1])\n",
        "  stop = total_best[i+1,l+1]\n",
        "  last_best = total_best[i,l+1]\n",
        "  i+=1\n",
        "lentotal = i"
      ],
      "metadata": {
        "id": "xC2azInjdAiV"
      },
      "execution_count": null,
      "outputs": []
    },
    {
      "cell_type": "code",
      "source": [
        "#for i in range(lentotal+1):\n",
        "  #np.savetxt('Genetic Algorithm: The %dth population_100-10_Burger equation.csv'%i, total_population[i], delimiter=',')\n",
        "  #files.download('Genetic Algorithm: The %dth population_100-10_Burger equation.csv'%i) \n",
        "np.savetxt('Genetic Algorithm: Fittest in all generation_100-10_Burger equation.csv', total_best, delimiter=',')\n",
        "files.download('Genetic Algorithm: Fittest in all generation_100-10_Burger equation.csv') "
      ],
      "metadata": {
        "id": "JgaaoIi1Gy2O",
        "colab": {
          "base_uri": "https://localhost:8080/",
          "height": 17
        },
        "outputId": "b75a429c-e485-4947-878f-68b82b0c861d"
      },
      "execution_count": 12,
      "outputs": [
        {
          "output_type": "display_data",
          "data": {
            "text/plain": [
              "<IPython.core.display.Javascript object>"
            ],
            "application/javascript": [
              "\n",
              "    async function download(id, filename, size) {\n",
              "      if (!google.colab.kernel.accessAllowed) {\n",
              "        return;\n",
              "      }\n",
              "      const div = document.createElement('div');\n",
              "      const label = document.createElement('label');\n",
              "      label.textContent = `Downloading \"${filename}\": `;\n",
              "      div.appendChild(label);\n",
              "      const progress = document.createElement('progress');\n",
              "      progress.max = size;\n",
              "      div.appendChild(progress);\n",
              "      document.body.appendChild(div);\n",
              "\n",
              "      const buffers = [];\n",
              "      let downloaded = 0;\n",
              "\n",
              "      const channel = await google.colab.kernel.comms.open(id);\n",
              "      // Send a message to notify the kernel that we're ready.\n",
              "      channel.send({})\n",
              "\n",
              "      for await (const message of channel.messages) {\n",
              "        // Send a message to notify the kernel that we're ready.\n",
              "        channel.send({})\n",
              "        if (message.buffers) {\n",
              "          for (const buffer of message.buffers) {\n",
              "            buffers.push(buffer);\n",
              "            downloaded += buffer.byteLength;\n",
              "            progress.value = downloaded;\n",
              "          }\n",
              "        }\n",
              "      }\n",
              "      const blob = new Blob(buffers, {type: 'application/binary'});\n",
              "      const a = document.createElement('a');\n",
              "      a.href = window.URL.createObjectURL(blob);\n",
              "      a.download = filename;\n",
              "      div.appendChild(a);\n",
              "      a.click();\n",
              "      div.remove();\n",
              "    }\n",
              "  "
            ]
          },
          "metadata": {}
        },
        {
          "output_type": "display_data",
          "data": {
            "text/plain": [
              "<IPython.core.display.Javascript object>"
            ],
            "application/javascript": [
              "download(\"download_b7cc8044-1710-40fb-9009-655eb8b9a9e6\", \"Genetic Algorithm: Fittest in all generation_100-10_Burger equation.csv\", 155959)"
            ]
          },
          "metadata": {}
        }
      ]
    }
  ]
}